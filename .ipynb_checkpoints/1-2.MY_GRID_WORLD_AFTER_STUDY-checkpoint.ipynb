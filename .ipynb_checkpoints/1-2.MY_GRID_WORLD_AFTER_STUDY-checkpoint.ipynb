{
 "cells": [
  {
   "cell_type": "code",
   "execution_count": null,
   "metadata": {},
   "outputs": [],
   "source": [
    "# Agent가 가져야 할 것\n",
    "# 1. Agent가 할 수 있는 Action의 집합\n",
    "# 2. Environment의 정책에 대해서 무작위로 움직일 수 있는 Action\n",
    "# 3. 현재 가치함수를 발전시키는 함수\n",
    "# 4. 현재 가치함수를 평가하는 함수\n",
    "# 5. 현 상태에 대한 정책\n",
    "\n",
    "#environment가 가져야 할 것\n",
    "# 1. 각 그리드에 대한 보상\n",
    "# 3. 각 그리드에 대한 가치함수\n",
    "# 4. 할인율 \n",
    "# 5. 가치함수 평가하는 함수\n",
    "# 6. 기타 - 맵 그리는 함수 등...."
   ]
  },
  {
   "cell_type": "code",
   "execution_count": 1,
   "metadata": {},
   "outputs": [],
   "source": [
    "import random\n",
    "\n",
    "WIDTH = 3\n",
    "HEIGHT = 3"
   ]
  },
  {
   "cell_type": "code",
   "execution_count": 83,
   "metadata": {},
   "outputs": [],
   "source": [
    "class Agent:\n",
    "        \n",
    "    def __init__(self, env, policy = None):\n",
    "        self.ACTION = ['LEFT','UP','RIGHT','DOWN']\n",
    "        self.env = env\n",
    "        \n",
    "        if policy is None:\n",
    "            self.policy = [[dict([(x, 0.25) for x in self.ACTION]) if x != 0 and x != self.env.width+1 and y != 0 and y != self.env.height+1 else None for x in range(self.env.width+2)] for y in range(self.env.height+2)]\n",
    "            self.policy[self.env.fruit_y][self.env.fruit_x] = None\n",
    "        else:\n",
    "            self.policy = policy\n",
    "            \n",
    "        self.value = [[0.0 for x in range(self.env.width+2)] for y in range(self.env.height+2)]\n",
    "        \n",
    "        self.discount_factor = 0.9\n",
    "        \n",
    "        \n",
    "    def move_proba(policy):\n",
    "        \n",
    "        action = random.choices(self.ACTION, self.policy[self.env.height][self.env.width])\n",
    "        next_env = [self.env[h].copy() for h in range(self.env.height+2)]\n",
    "        \n",
    "        if action == 'LEFT':\n",
    "            next_env.agent_x -= 1\n",
    "        elif action == 'UP':\n",
    "            next_env.agent_y -= 1\n",
    "        elif action == 'RIGHT':\n",
    "            next_env.agent_x += 1\n",
    "        elif action == 'DOWN':\n",
    "            next_env.agent_y += 1\n",
    "        \n",
    "        if next_env._map[next_env.agent_y][next_env.agent_x] in next_env.HUDDLES:\n",
    "            next_env.isEnd == True\n",
    "        elif next_env.agent_x == next_env.fruit_x and next_env.agent_y == next_env.fruit_y:\n",
    "            next_env.score += 100\n",
    "            next_env.isEnd == True\n",
    "        \n",
    "        return action, next_env\n",
    "        \n",
    "    def move_argmax(self):\n",
    "        action = max(self.policy[self.env.height][self.env.width])\n",
    "        \n",
    "        if action == 'LEFT':\n",
    "            self.env.agent_x -= 1\n",
    "        elif action == 'UP':\n",
    "            self.env.agent_y -= 1\n",
    "        elif action == 'RIGHT':\n",
    "            self.env.agent_x += 1\n",
    "        elif action == 'DOWN':\n",
    "            self.env.agent_y += 1\n",
    "        \n",
    "        if self.env._map[next_env.agent_y][next_env.agent_x] in self.env.HUDDLES:\n",
    "            self.env.isEnd == True\n",
    "        elif next_env.agent_x == next_env.fruit_x and next_env.agent_y == next_env.fruit_y:\n",
    "            self.env.score += 100\n",
    "            self.env.isEnd == True\n",
    "            \n",
    "    def policy_evaluate_step_by_step(self):\n",
    "        action, next_env = move_proba(self.policy)\n",
    "        reward = env.reward[self.env.agent_y][self.env.agent_x]\n",
    "        next_value = self.value[next_env.agent_y][next_env.agent_x]\n",
    "        self.value[self.env.agent_y][self.agent_x] += self.policy[self.agent_y][self.agent_x][action] * (reward + (self.discount_factor * next_value))\n",
    "        \n",
    "        self.env = next_env\n",
    "           \n",
    "    def policy_improve_step_by_step(self):\n",
    "        \n",
    "        "
   ]
  },
  {
   "cell_type": "code",
   "execution_count": 3,
   "metadata": {},
   "outputs": [],
   "source": [
    "class Environment:\n",
    "        \n",
    "    def __init__(self, w, h, fruit_x, fruit_y, agent_x, agent_y):\n",
    "        self.width = w\n",
    "        self.height = h\n",
    "        self.fruit_x = fruit_x\n",
    "        self.fruit_y = fruit_y\n",
    "        self.agent_x = agent_x\n",
    "        self.agent_y = agent_y\n",
    "        self.score = 0\n",
    "        \n",
    "        self.EMPTY = 100\n",
    "        self.AGENT = 200\n",
    "        self.FRUIT = 300\n",
    "        self.LEFTUP_HUDDLE = 77\n",
    "        self.LEFT_HUDDLE = 44\n",
    "        self.LEFTDOWN_HUDDLE = 11\n",
    "        self.DOWN_HUDDLE = 22\n",
    "        self.RIGHTDOWN_HUDDLE = 33\n",
    "        self.RIGHT_HUDDLE = 66\n",
    "        self.RIGHTUP_HUDDLE = 99\n",
    "        self.UP_HUDDLE = 88\n",
    "        self.MIDDLE_HUDDLE = 55\n",
    "\n",
    "        self.HUDDLES = [LEFTUP_HUDDLE, LEFT_HUDDLE, LEFTDOWN_HUDDLE, DOWN_HUDDLE, RIGHTDOWN_HUDDLE, RIGHT_HUDDLE, RIGHTUP_HUDDLE, UP_HUDDLE, MIDDLE_HUDDLE]\n",
    "                    \n",
    "        self.initMap(self)\n",
    "        # 과일을 먹는다면 보상으로 +10점\n",
    "        # 벽이나 장애물에 닿는다면 벌점으로 -1점\n",
    "        self.reward = [[0 for x in range(self.width+2)] for y in range(self.height+2)]\n",
    "        for i in range(len(self.reward)):\n",
    "            for j in range(len(self.reward[i])):\n",
    "                if self._map[i][j] in self.HUDDLES:\n",
    "                    self.reward[i][j] = -1\n",
    "        self.reward[self.fruit_y][self.fruit_x] = 10\n",
    "        \n",
    "        self.isEnd = False\n",
    "\n",
    "    def initMap(self):\n",
    "        # 맵을 그리기위한 _map변수.\n",
    "        # 시각화 하는 쪽이 이해하기나 디버깅하기 편하기 때문...\n",
    "        # 나는 벽에 닿으면 죽는 것 까지 고려하기 위해 Width, Height에 +2 를 해서 벽의 공간을 만듦.\n",
    "        self._map = [[EMPTY for x in range(self.width+2)] for y in range(self.height+2)]\n",
    "        self._map[self.agent_y][self.agent_x] = self.AGENT\n",
    "        self._map[self.fruit_y][self.fruit_x] = self.FRUIT\n",
    "        for i in range(len(self._map)):\n",
    "            for j in range(len(self._map[i])):\n",
    "                if i == 0 and j == 0:\n",
    "                    self._map[i][j] = self.LEFTUP_HUDDLE\n",
    "                elif i == 0 and j == len(self._map[i])-1:\n",
    "                    self._map[i][j] = self.RIGHTUP_HUDDLE\n",
    "                elif i == len(self._map)-1 and j == len(self._map[i])-1:\n",
    "                    self._map[i][j] = self.RIGHTDOWN_HUDDLE\n",
    "                elif i == len(self._map)-1 and j == 0:\n",
    "                    self._map[i][j] = self.LEFTDOWN_HUDDLE\n",
    "                elif i == 0:\n",
    "                    self._map[i][j] = self.UP_HUDDLE\n",
    "                elif j == 0:\n",
    "                    self._map[i][j] = self.LEFT_HUDDLE\n",
    "                elif i == len(self._map)-1:\n",
    "                    self._map[i][j] = self.DOWN_HUDDLE\n",
    "                elif j == len(self._map[i])-1:\n",
    "                    self._map[i][j] = self.RIGHT_HUDDLE\n",
    "    \n",
    "    def printMap(self):\n",
    "        '''\n",
    "        맵을 그려주기 위한 함수\n",
    "        '''\n",
    "        self.initMap(self)\n",
    "        print('score : '+str(self.score))\n",
    "        for i in range(self.height+2):\n",
    "            for j in range(self.width+2):\n",
    "                if self._map[i][j] == self.EMPTY:\n",
    "                    print('□', end='')\n",
    "                elif self._map[i][j] == self.MIDDLE_HUDDLE:\n",
    "                    print('■', end='')\n",
    "                elif self._map[i][j] == self.LEFTUP_HUDDLE:\n",
    "                    print('┏', end='')\n",
    "                elif self._map[i][j] == self.LEFT_HUDDLE:\n",
    "                    print('┃', end='')\n",
    "                elif self._map[i][j] == self.LEFTDOWN_HUDDLE:\n",
    "                    print('┗', end='')\n",
    "                elif self._map[i][j] == self.DOWN_HUDDLE:\n",
    "                    print('━', end='')\n",
    "                elif self._map[i][j] == self.RIGHTDOWN_HUDDLE:\n",
    "                    print('┛', end='')\n",
    "                elif self._map[i][j] == self.RIGHT_HUDDLE:\n",
    "                    print('┃', end='')\n",
    "                elif self._map[i][j] == self.RIGHTUP_HUDDLE:\n",
    "                    print('┓', end='')\n",
    "                elif self._map[i][j] == self.UP_HUDDLE:\n",
    "                    print('━', end='')\n",
    "                elif self._map[i][j] == self.AGENT:\n",
    "                    print('●', end = '')\n",
    "                elif self._map[i][j] == self.FRUIT:\n",
    "                    print('★', end ='')\n",
    "            print()\n",
    "        print('\\n')\n",
    "        \n",
    "        \n",
    "        \n",
    "    def printPolicy(self):\n",
    "        '''\n",
    "        정책을 보여주기 위한 함수\n",
    "        '''\n",
    "        for i in self.policy:\n",
    "            for j in i:\n",
    "                print('[', end ='')\n",
    "                for k in j:\n",
    "                    print(round(k,2), end =',')\n",
    "                print(']', end = ' ')\n",
    "            print('\\n')\n",
    "\n",
    "    \n",
    "    \n",
    "        \n",
    "    "
   ]
  },
  {
   "cell_type": "code",
   "execution_count": 55,
   "metadata": {},
   "outputs": [],
   "source": [
    "l = [1,2,3,4]"
   ]
  },
  {
   "cell_type": "code",
   "execution_count": 56,
   "metadata": {},
   "outputs": [
    {
     "data": {
      "text/plain": [
       "{1: 3, 2: 4}"
      ]
     },
     "execution_count": 56,
     "metadata": {},
     "output_type": "execute_result"
    }
   ],
   "source": [
    "dict([(1,3),(2,4)])"
   ]
  },
  {
   "cell_type": "code",
   "execution_count": 84,
   "metadata": {},
   "outputs": [],
   "source": [
    "p = [[dict([(x, 0.25) for x in ['left','up']]) if ((x != 0 and x != 2) and (y != 0 and y != 2)) else None for x in range(3)] for y in range(3)]\n"
   ]
  },
  {
   "cell_type": "code",
   "execution_count": 120,
   "metadata": {},
   "outputs": [],
   "source": [
    "a = [[1,2,3],[4,5,6]]\n"
   ]
  },
  {
   "cell_type": "code",
   "execution_count": 122,
   "metadata": {},
   "outputs": [
    {
     "data": {
      "text/plain": [
       "2"
      ]
     },
     "execution_count": 122,
     "metadata": {},
     "output_type": "execute_result"
    }
   ],
   "source": [
    "a[0].index(3)"
   ]
  },
  {
   "cell_type": "code",
   "execution_count": 123,
   "metadata": {},
   "outputs": [],
   "source": [
    "a = {'c':1, 'b':2, 'a':3}"
   ]
  },
  {
   "cell_type": "code",
   "execution_count": 124,
   "metadata": {},
   "outputs": [
    {
     "data": {
      "text/plain": [
       "'c'"
      ]
     },
     "execution_count": 124,
     "metadata": {},
     "output_type": "execute_result"
    }
   ],
   "source": [
    "max(a)"
   ]
  },
  {
   "cell_type": "code",
   "execution_count": 125,
   "metadata": {},
   "outputs": [
    {
     "name": "stdout",
     "output_type": "stream",
     "text": [
      "0\n",
      "1\n",
      "2\n",
      "3\n",
      "4\n",
      "6\n",
      "7\n",
      "8\n",
      "9\n"
     ]
    }
   ],
   "source": [
    "for i in range(10):\n",
    "    if i == 5:\n",
    "        continue\n",
    "    print(i)"
   ]
  },
  {
   "cell_type": "code",
   "execution_count": 135,
   "metadata": {},
   "outputs": [
    {
     "data": {
      "text/plain": [
       "0"
      ]
     },
     "execution_count": 135,
     "metadata": {},
     "output_type": "execute_result"
    }
   ],
   "source": [
    "import numpy as np\n",
    "a = [0,0,-1,-1,0]\n",
    "np.amax(a)"
   ]
  },
  {
   "cell_type": "code",
   "execution_count": 136,
   "metadata": {},
   "outputs": [
    {
     "data": {
      "text/plain": [
       "array([[0],\n",
       "       [1],\n",
       "       [4]])"
      ]
     },
     "execution_count": 136,
     "metadata": {},
     "output_type": "execute_result"
    }
   ],
   "source": [
    "np.argwhere(a == np.amax(a))"
   ]
  },
  {
   "cell_type": "code",
   "execution_count": 134,
   "metadata": {},
   "outputs": [
    {
     "data": {
      "text/plain": [
       "array([7, 1, 2, list([3, 5]), list([7])], dtype=object)"
      ]
     },
     "execution_count": 134,
     "metadata": {},
     "output_type": "execute_result"
    }
   ],
   "source": [
    "np.array(a).flatten()"
   ]
  },
  {
   "cell_type": "code",
   "execution_count": null,
   "metadata": {},
   "outputs": [],
   "source": []
  }
 ],
 "metadata": {
  "kernelspec": {
   "display_name": "Python 3",
   "language": "python",
   "name": "python3"
  },
  "language_info": {
   "codemirror_mode": {
    "name": "ipython",
    "version": 3
   },
   "file_extension": ".py",
   "mimetype": "text/x-python",
   "name": "python",
   "nbconvert_exporter": "python",
   "pygments_lexer": "ipython3",
   "version": "3.7.4"
  }
 },
 "nbformat": 4,
 "nbformat_minor": 2
}
